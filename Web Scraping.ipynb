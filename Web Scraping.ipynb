{
 "cells": [
  {
   "cell_type": "code",
   "execution_count": 1,
   "metadata": {},
   "outputs": [],
   "source": [
    "import mechanicalsoup\n",
    "import urllib.request as urllib2\n",
    "from bs4 import BeautifulSoup\n",
    "import re\n",
    "import os\n",
    "os.chdir(r'F:\\Reports')\n",
    "browser = mechanicalsoup.StatefulBrowser()\n",
    "browser.open(\"http://www.report.capitaline.com/\")\n",
    "Session = browser.session\n",
    "browser.select_form()\n",
    "browser['userName'] = 'pwc'\n",
    "browser['userPassword'] = 'tax2006'\n",
    "response = browser.submit_selected()\n",
    "\n",
    "response.url\n",
    "soup = BeautifulSoup(response.text,'lxml')\n",
    "links = []\n",
    "links1=[]\n",
    "links2=[]\n",
    "for link in soup.findAll('a', attrs={'href': re.compile(\"^viewpdf2\")}):\n",
    "    links.append(\"http://www.report.capitaline.com/\"+link.get('href'))\n",
    "\n",
    "r = browser.get(links[0])\n",
    "#s = browser.get(\"http://www.report.capitaline.com/resultout.asp?cocode=103\")\n",
    "soup = BeautifulSoup(r.text,'lxml')\n"
   ]
  },
  {
   "cell_type": "code",
   "execution_count": 2,
   "metadata": {},
   "outputs": [],
   "source": [
    "for link in links:\n",
    "    r = browser.get(link)\n",
    "    soup = BeautifulSoup(r.text,'lxml')\n",
    "    for i in soup.find_all('a', attrs={'href': re.compile(\"^resultout.asp\")}):\n",
    "        links1.append(\"http://www.report.capitaline.com/\"+i.get('href'))"
   ]
  },
  {
   "cell_type": "code",
   "execution_count": 3,
   "metadata": {},
   "outputs": [
    {
     "name": "stdout",
     "output_type": "stream",
     "text": [
      "\n",
      "\n",
      "\n",
      "\n",
      "\n",
      "\n",
      "\n",
      "\n",
      "\n",
      "\n",
      "\n",
      "\n",
      "\n",
      "\n"
     ]
    }
   ],
   "source": [
    "for x in range(0, len(links1)):    \n",
    "    r = browser.get(links1[x])\n",
    "    soup = BeautifulSoup(r.text,'lxml')\n",
    "    for i in soup.find_all('a', attrs={'href': re.compile(\"^Pdfsearch.asp\")}):\n",
    "            a = (\"http://www.report.capitaline.com/\"+i.get('href'))\n",
    "            c = a.split('=')\n",
    "            if(os.path.isdir(c[3])):\n",
    "                print(\"\")\n",
    "            else:\n",
    "                os.mkdir(c[3])\n",
    "            t = a[51:55]\n",
    "            r = browser.get(a, stream = True)\n",
    "            with open(\"F:\\Reports\\\\\" + c[3] + \"\\\\\" + t + \".pdf\",\"wb\") as pdf:\n",
    "                for chunk in r.iter_content(chunk_size=1024):\n",
    "                    if chunk:\n",
    "                        pdf.write(chunk)"
   ]
  },
  {
   "cell_type": "code",
   "execution_count": null,
   "metadata": {
    "collapsed": true
   },
   "outputs": [],
   "source": []
  }
 ],
 "metadata": {
  "kernelspec": {
   "display_name": "Python 3",
   "language": "python",
   "name": "python3"
  },
  "language_info": {
   "codemirror_mode": {
    "name": "ipython",
    "version": 3
   },
   "file_extension": ".py",
   "mimetype": "text/x-python",
   "name": "python",
   "nbconvert_exporter": "python",
   "pygments_lexer": "ipython3",
   "version": "3.5.5"
  }
 },
 "nbformat": 4,
 "nbformat_minor": 2
}
